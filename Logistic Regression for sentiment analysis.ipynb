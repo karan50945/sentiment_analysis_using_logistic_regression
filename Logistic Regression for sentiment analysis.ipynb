{
 "cells": [
  {
   "cell_type": "code",
   "execution_count": 1,
   "id": "928a2cf7",
   "metadata": {},
   "outputs": [],
   "source": [
    "import pandas as pd\n",
    "import string\n",
    "import nltk"
   ]
  },
  {
   "cell_type": "code",
   "execution_count": 2,
   "id": "bbe99ad8",
   "metadata": {},
   "outputs": [],
   "source": [
    "from nltk.corpus import stopwords"
   ]
  },
  {
   "cell_type": "code",
   "execution_count": 3,
   "id": "8331c640",
   "metadata": {},
   "outputs": [],
   "source": [
    "st = stopwords.words('english')\n",
    "st.append(\"and\")"
   ]
  },
  {
   "cell_type": "code",
   "execution_count": 4,
   "id": "4296bb19",
   "metadata": {},
   "outputs": [],
   "source": [
    "products = pd.read_csv('amazon_baby.csv')"
   ]
  },
  {
   "cell_type": "code",
   "execution_count": 5,
   "id": "9899c001",
   "metadata": {},
   "outputs": [
    {
     "data": {
      "text/html": [
       "<div>\n",
       "<style scoped>\n",
       "    .dataframe tbody tr th:only-of-type {\n",
       "        vertical-align: middle;\n",
       "    }\n",
       "\n",
       "    .dataframe tbody tr th {\n",
       "        vertical-align: top;\n",
       "    }\n",
       "\n",
       "    .dataframe thead th {\n",
       "        text-align: right;\n",
       "    }\n",
       "</style>\n",
       "<table border=\"1\" class=\"dataframe\">\n",
       "  <thead>\n",
       "    <tr style=\"text-align: right;\">\n",
       "      <th></th>\n",
       "      <th>name</th>\n",
       "      <th>review</th>\n",
       "      <th>rating</th>\n",
       "    </tr>\n",
       "  </thead>\n",
       "  <tbody>\n",
       "    <tr>\n",
       "      <th>0</th>\n",
       "      <td>Planetwise Flannel Wipes</td>\n",
       "      <td>These flannel wipes are OK, but in my opinion ...</td>\n",
       "      <td>3</td>\n",
       "    </tr>\n",
       "    <tr>\n",
       "      <th>1</th>\n",
       "      <td>Planetwise Wipe Pouch</td>\n",
       "      <td>it came early and was not disappointed. i love...</td>\n",
       "      <td>5</td>\n",
       "    </tr>\n",
       "    <tr>\n",
       "      <th>2</th>\n",
       "      <td>Annas Dream Full Quilt with 2 Shams</td>\n",
       "      <td>Very soft and comfortable and warmer than it l...</td>\n",
       "      <td>5</td>\n",
       "    </tr>\n",
       "    <tr>\n",
       "      <th>3</th>\n",
       "      <td>Stop Pacifier Sucking without tears with Thumb...</td>\n",
       "      <td>This is a product well worth the purchase.  I ...</td>\n",
       "      <td>5</td>\n",
       "    </tr>\n",
       "    <tr>\n",
       "      <th>4</th>\n",
       "      <td>Stop Pacifier Sucking without tears with Thumb...</td>\n",
       "      <td>All of my kids have cried non-stop when I trie...</td>\n",
       "      <td>5</td>\n",
       "    </tr>\n",
       "  </tbody>\n",
       "</table>\n",
       "</div>"
      ],
      "text/plain": [
       "                                                name  \\\n",
       "0                           Planetwise Flannel Wipes   \n",
       "1                              Planetwise Wipe Pouch   \n",
       "2                Annas Dream Full Quilt with 2 Shams   \n",
       "3  Stop Pacifier Sucking without tears with Thumb...   \n",
       "4  Stop Pacifier Sucking without tears with Thumb...   \n",
       "\n",
       "                                              review  rating  \n",
       "0  These flannel wipes are OK, but in my opinion ...       3  \n",
       "1  it came early and was not disappointed. i love...       5  \n",
       "2  Very soft and comfortable and warmer than it l...       5  \n",
       "3  This is a product well worth the purchase.  I ...       5  \n",
       "4  All of my kids have cried non-stop when I trie...       5  "
      ]
     },
     "execution_count": 5,
     "metadata": {},
     "output_type": "execute_result"
    }
   ],
   "source": [
    "products.head()"
   ]
  },
  {
   "cell_type": "code",
   "execution_count": 6,
   "id": "afdf41d5",
   "metadata": {},
   "outputs": [],
   "source": [
    "def remove_punctuation(message):\n",
    "    test_punc_removed = [char for char in str(message) if char not in string.punctuation]\n",
    "    test_punc_removed = ''.join(test_punc_removed)\n",
    "    test_punc_st_removed = []\n",
    "    for char in test_punc_removed.split():\n",
    "        if char.lower() not in st:\n",
    "            test_punc_st_removed.append(char)\n",
    "    test_punc_st_removed = \" \".join(test_punc_st_removed)  \n",
    "    return test_punc_st_removed"
   ]
  },
  {
   "cell_type": "code",
   "execution_count": 7,
   "id": "a0611990",
   "metadata": {},
   "outputs": [],
   "source": [
    "products['review_clean'] = products['review'].apply(remove_punctuation)"
   ]
  },
  {
   "cell_type": "code",
   "execution_count": 8,
   "id": "acc0952a",
   "metadata": {},
   "outputs": [],
   "source": [
    "products = products.fillna({'review':''})"
   ]
  },
  {
   "cell_type": "code",
   "execution_count": 9,
   "id": "ac01f908",
   "metadata": {},
   "outputs": [],
   "source": [
    "products = products[products['rating'] != 3] #remove neutrals"
   ]
  },
  {
   "cell_type": "code",
   "execution_count": 10,
   "id": "fd32809a",
   "metadata": {},
   "outputs": [],
   "source": [
    "products['sentiment'] = products['rating'].apply(lambda rating : +1 if rating > 3 else -1)"
   ]
  },
  {
   "cell_type": "code",
   "execution_count": 11,
   "id": "9e5afb52",
   "metadata": {},
   "outputs": [],
   "source": [
    "from sklearn.model_selection import train_test_split"
   ]
  },
  {
   "cell_type": "code",
   "execution_count": 12,
   "id": "60ea0372",
   "metadata": {},
   "outputs": [],
   "source": [
    "X = products.drop('sentiment', axis = 1)\n",
    "y = products['sentiment']"
   ]
  },
  {
   "cell_type": "code",
   "execution_count": 13,
   "id": "169e3b6f",
   "metadata": {},
   "outputs": [],
   "source": [
    "X_train, X_test, y_train, y_test = train_test_split(X, y, test_size = 0.2, random_state = 0)"
   ]
  },
  {
   "cell_type": "code",
   "execution_count": 14,
   "id": "a71d38a1",
   "metadata": {},
   "outputs": [],
   "source": [
    "from sklearn.feature_extraction.text import CountVectorizer\n",
    "\n",
    "vectorizer = CountVectorizer(token_pattern=r'\\b\\w+\\b') # Use this token pattern to keep single-letter words\n",
    "\n",
    "X_train_matrix = vectorizer.fit_transform(X_train['review_clean'])\n",
    "X_test_matrix = vectorizer.transform(X_test['review_clean'])"
   ]
  },
  {
   "cell_type": "code",
   "execution_count": 15,
   "id": "2eda7921",
   "metadata": {},
   "outputs": [
    {
     "data": {
      "text/plain": [
       "LogisticRegression(max_iter=10000)"
      ]
     },
     "execution_count": 15,
     "metadata": {},
     "output_type": "execute_result"
    }
   ],
   "source": [
    "from sklearn.linear_model import LogisticRegression\n",
    "logreg = LogisticRegression(max_iter = 10000)\n",
    "logreg.fit(X_train_matrix, y_train)"
   ]
  },
  {
   "cell_type": "code",
   "execution_count": 16,
   "id": "20f5037f",
   "metadata": {},
   "outputs": [
    {
     "data": {
      "text/plain": [
       "90851"
      ]
     },
     "execution_count": 16,
     "metadata": {},
     "output_type": "execute_result"
    }
   ],
   "source": [
    "len(logreg.coef_[logreg.coef_>=0])"
   ]
  },
  {
   "cell_type": "code",
   "execution_count": 17,
   "id": "fed79fed",
   "metadata": {},
   "outputs": [
    {
     "name": "stdout",
     "output_type": "stream",
     "text": [
      "                                                     name  \\\n",
      "167897  Wrapsody Breeze Baby Carrier, Freya, Medium/Large   \n",
      "129689                  Noah And Friends High Chair Cover   \n",
      "54150              Medela Pump in Style Advanced Backpack   \n",
      "8352                            Baby Bjorn Toilet Trainer   \n",
      "55700                       HABA Blossom Butterfly Mobile   \n",
      "83479           Dreambaby Super Toy Hammock and Toy Chain   \n",
      "93618                Sunshine Kids Seat Belt Pillow, Grey   \n",
      "130762            Dreambaby Sliding Door and Window Locks   \n",
      "73991   Delta Canton 4-in-1 Convertible Crib, Dark Cherry   \n",
      "174021  Thermos FUNtainer Monsters University Food Jar...   \n",
      "\n",
      "                                                   review  rating  \\\n",
      "167897  This wrap is very thin and lightweight, great ...       5   \n",
      "129689                                                          5   \n",
      "54150   I got this pump as I went back to work with my...       5   \n",
      "8352    Before I had purchased this toilet trainer, I ...       5   \n",
      "55700   My son is 6 weeks old, and we bought this when...       5   \n",
      "83479   Unfortunately I like in a cement high rise. I ...       5   \n",
      "93618   I purchased this after my husband had bypass s...       5   \n",
      "130762  The product is expensive and we tried to use i...       2   \n",
      "73991   Really nice looking, easy to put together.Look...       5   \n",
      "174021  The thermos is great for keeping food warm. Th...       4   \n",
      "\n",
      "                                             review_clean  \n",
      "167897  wrap thin lightweight great summertime versati...  \n",
      "129689                                                nan  \n",
      "54150   got pump went back work second child rented pu...  \n",
      "8352    purchased toilet trainer using cheaper seat so...  \n",
      "55700   son 6 weeks old bought 4 weeks hung changing t...  \n",
      "83479   Unfortunately like cement high rise cant screw...  \n",
      "93618   purchased husband bypass surgery works great l...  \n",
      "130762  product expensive tried use sliding door follo...  \n",
      "73991   Really nice looking easy put togetherLooks rea...  \n",
      "174021  thermos great keeping food warm fall character...  \n"
     ]
    }
   ],
   "source": [
    "sample_test_data = X_test[15:25]\n",
    "print(sample_test_data) "
   ]
  },
  {
   "cell_type": "code",
   "execution_count": 18,
   "id": "b17cb958",
   "metadata": {},
   "outputs": [
    {
     "data": {
      "text/plain": [
       "167897    wrap thin lightweight great summertime versati...\n",
       "129689                                                  nan\n",
       "54150     got pump went back work second child rented pu...\n",
       "8352      purchased toilet trainer using cheaper seat so...\n",
       "55700     son 6 weeks old bought 4 weeks hung changing t...\n",
       "83479     Unfortunately like cement high rise cant screw...\n",
       "93618     purchased husband bypass surgery works great l...\n",
       "130762    product expensive tried use sliding door follo...\n",
       "73991     Really nice looking easy put togetherLooks rea...\n",
       "174021    thermos great keeping food warm fall character...\n",
       "Name: review_clean, dtype: object"
      ]
     },
     "execution_count": 18,
     "metadata": {},
     "output_type": "execute_result"
    }
   ],
   "source": [
    "sample_test_data['review_clean']"
   ]
  },
  {
   "cell_type": "code",
   "execution_count": 19,
   "id": "50049a1f",
   "metadata": {},
   "outputs": [
    {
     "name": "stdout",
     "output_type": "stream",
     "text": [
      "[ 2.60158494  1.87912477  0.02771336  7.11899316  5.17118482  1.25003051\n",
      "  6.63318809 -1.80259694  5.35936928  2.36601912]\n"
     ]
    }
   ],
   "source": [
    "sample_test_matrix = vectorizer.transform(sample_test_data['review_clean'])\n",
    "scores = logreg.decision_function(sample_test_matrix)\n",
    "print(scores)"
   ]
  },
  {
   "cell_type": "code",
   "execution_count": 20,
   "id": "413a430c",
   "metadata": {},
   "outputs": [],
   "source": [
    "y_pred = logreg.predict(X_test_matrix)"
   ]
  },
  {
   "cell_type": "code",
   "execution_count": 21,
   "id": "8039bfb1",
   "metadata": {},
   "outputs": [],
   "source": [
    "from sklearn.metrics import accuracy_score"
   ]
  },
  {
   "cell_type": "code",
   "execution_count": 22,
   "id": "93a64924",
   "metadata": {},
   "outputs": [],
   "source": [
    "ac = accuracy_score(y_test, y_pred)"
   ]
  },
  {
   "cell_type": "code",
   "execution_count": 23,
   "id": "8859b59b",
   "metadata": {},
   "outputs": [
    {
     "data": {
      "text/plain": [
       "0.9238703487151809"
      ]
     },
     "execution_count": 23,
     "metadata": {},
     "output_type": "execute_result"
    }
   ],
   "source": [
    "ac"
   ]
  },
  {
   "cell_type": "code",
   "execution_count": 24,
   "id": "12265e0b",
   "metadata": {},
   "outputs": [],
   "source": [
    "probs = 1/(1+2.71828**(-1*scores))"
   ]
  },
  {
   "cell_type": "code",
   "execution_count": 25,
   "id": "2447fda7",
   "metadata": {},
   "outputs": [
    {
     "data": {
      "text/plain": [
       "array([0.9309634 , 0.86751042, 0.50692789, 0.99919107, 0.9943542 ,\n",
       "       0.777305  , 0.99868576, 0.14153538, 0.99531813, 0.91419899])"
      ]
     },
     "execution_count": 25,
     "metadata": {},
     "output_type": "execute_result"
    }
   ],
   "source": [
    "probs"
   ]
  },
  {
   "cell_type": "code",
   "execution_count": null,
   "id": "95717796",
   "metadata": {},
   "outputs": [],
   "source": []
  }
 ],
 "metadata": {
  "kernelspec": {
   "display_name": "Python 3 (ipykernel)",
   "language": "python",
   "name": "python3"
  },
  "language_info": {
   "codemirror_mode": {
    "name": "ipython",
    "version": 3
   },
   "file_extension": ".py",
   "mimetype": "text/x-python",
   "name": "python",
   "nbconvert_exporter": "python",
   "pygments_lexer": "ipython3",
   "version": "3.9.7"
  }
 },
 "nbformat": 4,
 "nbformat_minor": 5
}
